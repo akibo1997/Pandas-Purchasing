{
 "cells": [
  {
   "cell_type": "markdown",
   "metadata": {},
   "source": [
    "### Video Game Data Analysis"
   ]
  },
  {
   "cell_type": "code",
   "execution_count": 11,
   "metadata": {},
   "outputs": [],
   "source": [
    "import pandas as pd\n",
    "import os\n",
    "import numpy as np\n",
    "\n",
    "# Read Purchasing File and store into Pandas data frame\n",
    "purchase_data = pd.read_csv(r'C:\\Users\\akibo\\Desktop\\Columbia Bootcamp\\Pandas-Purchasing\\Resources\\purchase_data.csv',sep=\",\")"
   ]
  },
  {
   "cell_type": "markdown",
   "metadata": {},
   "source": [
    "## Player Count"
   ]
  },
  {
   "cell_type": "code",
   "execution_count": 12,
   "metadata": {},
   "outputs": [
    {
     "output_type": "stream",
     "name": "stdout",
     "text": "779\n"
    }
   ],
   "source": [
    "# You can get the total purchases by leveraging the shape without the header row by subtracting 1\n",
    "\n",
    "total_purchases=purchase_data.shape[0]-1\n",
    "print(str(total_purchases))"
   ]
  },
  {
   "cell_type": "markdown",
   "metadata": {},
   "source": [
    "## Purchasing Analysis"
   ]
  },
  {
   "cell_type": "code",
   "execution_count": 18,
   "metadata": {
    "scrolled": true
   },
   "outputs": [
    {
     "output_type": "execute_result",
     "data": {
      "text/plain": "  Average Age Amount of Items Amount of Purchases Average Price Total Revenue\n0          23             179                 779         $3.05     $2,379.77",
      "text/html": "<div>\n<style scoped>\n    .dataframe tbody tr th:only-of-type {\n        vertical-align: middle;\n    }\n\n    .dataframe tbody tr th {\n        vertical-align: top;\n    }\n\n    .dataframe thead th {\n        text-align: right;\n    }\n</style>\n<table border=\"1\" class=\"dataframe\">\n  <thead>\n    <tr style=\"text-align: right;\">\n      <th></th>\n      <th>Average Age</th>\n      <th>Amount of Items</th>\n      <th>Amount of Purchases</th>\n      <th>Average Price</th>\n      <th>Total Revenue</th>\n    </tr>\n  </thead>\n  <tbody>\n    <tr>\n      <td>0</td>\n      <td>23</td>\n      <td>179</td>\n      <td>779</td>\n      <td>$3.05</td>\n      <td>$2,379.77</td>\n    </tr>\n  </tbody>\n</table>\n</div>"
     },
     "metadata": {},
     "execution_count": 18
    }
   ],
   "source": [
    "# Define variables and calculations for columns\n",
    "average_age=purchase_data['Age'].mean()\n",
    "amt_of_items=purchase_data['Item ID'].nunique()\n",
    "average_price=purchase_data['Price'].mean()\n",
    "total_revenue=purchase_data['Price'].sum()\n",
    "\n",
    "# Set up the column names so that it can be passed into the dataframe\n",
    "Column_names1=[\"Average Age\",\"Amount of Items\",\"Amount of Purchases\",\"Average Price\",\"Total Revenue\"]\n",
    "row_values1=[average_age,amt_of_items,total_purchases,average_price,total_revenue]\n",
    "\n",
    "# The summary table will be the column names, then we can insert the row values in the first row, indexed as 0\n",
    "Summary_Table=pd.DataFrame(index=None,columns=Column_names1)\n",
    "Summary_Table.loc[0]=row_values1\n",
    "\n",
    "# Formatting columns\n",
    "Summary_Table['Average Age']=Summary_Table['Average Age'].astype(float).map(\"{:,.0f}\".format)\n",
    "Summary_Table['Amount of Items']=Summary_Table['Amount of Items'].astype(float).map(\"{:,.0f}\".format)\n",
    "Summary_Table['Amount of Purchases']=Summary_Table['Amount of Purchases'].astype(float).map(\"{:,.0f}\".format)\n",
    "Summary_Table['Average Price']=Summary_Table['Average Price'].astype(float).map(\"${:,.2f}\".format)\n",
    "Summary_Table['Total Revenue']=Summary_Table['Total Revenue'].astype(float).map(\"${:,.2f}\".format)\n",
    "\n",
    "Summary_Table"
   ]
  },
  {
   "cell_type": "markdown",
   "metadata": {},
   "source": [
    "## Gender Demographics and Purchasing Analysis by Gender"
   ]
  },
  {
   "cell_type": "code",
   "execution_count": 115,
   "metadata": {},
   "outputs": [
    {
     "output_type": "execute_result",
     "data": {
      "text/plain": "    Gender  Count Percentage\n0    Males    652     83.7 %\n1  Females    113     14.5 %\n2    Other     15      1.9 %",
      "text/html": "<div>\n<style scoped>\n    .dataframe tbody tr th:only-of-type {\n        vertical-align: middle;\n    }\n\n    .dataframe tbody tr th {\n        vertical-align: top;\n    }\n\n    .dataframe thead th {\n        text-align: right;\n    }\n</style>\n<table border=\"1\" class=\"dataframe\">\n  <thead>\n    <tr style=\"text-align: right;\">\n      <th></th>\n      <th>Gender</th>\n      <th>Count</th>\n      <th>Percentage</th>\n    </tr>\n  </thead>\n  <tbody>\n    <tr>\n      <td>0</td>\n      <td>Males</td>\n      <td>652</td>\n      <td>83.7 %</td>\n    </tr>\n    <tr>\n      <td>1</td>\n      <td>Females</td>\n      <td>113</td>\n      <td>14.5 %</td>\n    </tr>\n    <tr>\n      <td>2</td>\n      <td>Other</td>\n      <td>15</td>\n      <td>1.9 %</td>\n    </tr>\n  </tbody>\n</table>\n</div>"
     },
     "metadata": {},
     "execution_count": 115
    }
   ],
   "source": [
    "# Create a function so that we only have to calculate percentage once (DRY)\n",
    "def Percentage_Calc(x):\n",
    "    return (x/total_purchases)*100\n",
    "\n",
    "# Define variables and calculate the amount of males, females, and \"other\"\n",
    "Males=purchase_data[purchase_data.Gender==str('Male')].shape[0]\n",
    "Females=purchase_data[purchase_data.Gender==str('Female')].shape[0]\n",
    "Other_Count=purchase_data[purchase_data.Gender==str(\"Other / Non-Disclosed\")].shape[0]\n",
    "\n",
    "Gender_header=[\"Gender\",\"Count\",\"Percentage\"]\n",
    "Gender_list=[\"Males\",\"Females\",\"Other\"]\n",
    "\n",
    "# We can use a dictionary to pass in the values, and leverage the function to get percentage\n",
    "Gender_dict={\"Gender\":[\"Males\",\"Females\",\"Other\"],\"Count\":[Males,Females,Other_Count],\"Percentage\":[Percentage_Calc(Males),Percentage_Calc(Females),Percentage_Calc(Other_Count)]}\n",
    "\n",
    "# Use the dictionary created to make a new dataframe\n",
    "Gender_Summary=pd.DataFrame(data=Gender_dict)\n",
    "\n",
    "# Format percentage column\n",
    "Gender_Summary['Percentage']=Gender_Summary['Percentage'].astype(float).map(\"{:,.1f} %\".format)\n",
    "\n",
    "Gender_Summary"
   ]
  },
  {
   "cell_type": "markdown",
   "metadata": {},
   "source": [
    "## Age Demographics and Purchasing Analysis"
   ]
  },
  {
   "cell_type": "code",
   "execution_count": 35,
   "metadata": {},
   "outputs": [
    {
     "output_type": "execute_result",
     "data": {
      "text/plain": "          Total Purchase Value  Count of Purchases Average Price  \\\nAge Group                                                          \n<10                     $77.13                  23         $3.35   \n10-14                   $82.78                  28         $2.96   \n15-19                  $412.89                 136         $3.04   \n20-24                $1,114.06                 365         $3.05   \n25-29                  $293.00                 101         $2.90   \n30-34                  $214.00                  73         $2.93   \n35-39                  $147.67                  41         $3.60   \n\n          Percentage Purchased  \nAge Group                       \n<10                     3.24 %  \n10-14                   3.48 %  \n15-19                  17.35 %  \n20-24                  46.81 %  \n25-29                  12.31 %  \n30-34                   8.99 %  \n35-39                   6.21 %  ",
      "text/html": "<div>\n<style scoped>\n    .dataframe tbody tr th:only-of-type {\n        vertical-align: middle;\n    }\n\n    .dataframe tbody tr th {\n        vertical-align: top;\n    }\n\n    .dataframe thead th {\n        text-align: right;\n    }\n</style>\n<table border=\"1\" class=\"dataframe\">\n  <thead>\n    <tr style=\"text-align: right;\">\n      <th></th>\n      <th>Total Purchase Value</th>\n      <th>Count of Purchases</th>\n      <th>Average Price</th>\n      <th>Percentage Purchased</th>\n    </tr>\n    <tr>\n      <th>Age Group</th>\n      <th></th>\n      <th></th>\n      <th></th>\n      <th></th>\n    </tr>\n  </thead>\n  <tbody>\n    <tr>\n      <td>&lt;10</td>\n      <td>$77.13</td>\n      <td>23</td>\n      <td>$3.35</td>\n      <td>3.24 %</td>\n    </tr>\n    <tr>\n      <td>10-14</td>\n      <td>$82.78</td>\n      <td>28</td>\n      <td>$2.96</td>\n      <td>3.48 %</td>\n    </tr>\n    <tr>\n      <td>15-19</td>\n      <td>$412.89</td>\n      <td>136</td>\n      <td>$3.04</td>\n      <td>17.35 %</td>\n    </tr>\n    <tr>\n      <td>20-24</td>\n      <td>$1,114.06</td>\n      <td>365</td>\n      <td>$3.05</td>\n      <td>46.81 %</td>\n    </tr>\n    <tr>\n      <td>25-29</td>\n      <td>$293.00</td>\n      <td>101</td>\n      <td>$2.90</td>\n      <td>12.31 %</td>\n    </tr>\n    <tr>\n      <td>30-34</td>\n      <td>$214.00</td>\n      <td>73</td>\n      <td>$2.93</td>\n      <td>8.99 %</td>\n    </tr>\n    <tr>\n      <td>35-39</td>\n      <td>$147.67</td>\n      <td>41</td>\n      <td>$3.60</td>\n      <td>6.21 %</td>\n    </tr>\n  </tbody>\n</table>\n</div>"
     },
     "metadata": {},
     "execution_count": 35
    }
   ],
   "source": [
    "# Establish labels for each bin\n",
    "ages_bins=[0,9,14,19,24,29,34,39]\n",
    "ages_labels=[\"<10\",\"10-14\",\"15-19\",\"20-24\",\"25-29\",\"30-34\",\"35-39\"]\n",
    "\n",
    "# Establish bins with the pd.cut method\n",
    "purchase_data[\"Age Group\"]=pd.cut(purchase_data[\"Age\"],ages_bins,labels=ages_labels,include_lowest=False)\n",
    "\n",
    "# Set up new dataframe with aggregated information\n",
    "purchase_data_ages=pd.DataFrame(purchase_data.groupby(\"Age Group\").sum().Price)\n",
    "purchase_data_ages[\"Count of Purchases\"]=purchase_data.groupby(\"Age Group\").count().Price\n",
    "purchase_data_ages[\"Average Price\"]=purchase_data.groupby(\"Age Group\").mean().Price\n",
    "\n",
    "# Rename the price column to \"Total Purchase Value\"\n",
    "purchase_data_ages=purchase_data_ages.rename(columns={\"Price\":\"Total Purchase Value\"})\n",
    "\n",
    "# Add in column that accounts for the percentage of purchases per group\n",
    "purchase_data_ages[\"Percentage Purchased\"]=((purchase_data_ages[\"Total Purchase Value\"])/total_revenue)*100\n",
    "\n",
    "# Format columns\n",
    "purchase_data_ages['Average Price']=purchase_data_ages['Average Price'].astype(float).map(\"${:,.2f}\".format)\n",
    "purchase_data_ages['Total Purchase Value']=purchase_data_ages['Total Purchase Value'].astype(float).map(\"${:,.2f}\".format)\n",
    "purchase_data_ages['Percentage Purchased']=purchase_data_ages['Percentage Purchased'].astype(float).map(\"{:,.2f} %\".format)\n",
    "\n",
    "purchase_data_ages"
   ]
  },
  {
   "cell_type": "markdown",
   "metadata": {},
   "source": [
    "## Top Spenders"
   ]
  },
  {
   "cell_type": "markdown",
   "metadata": {},
   "source": [
    "* Run basic calculations to obtain the results in the table below\n",
    "\n",
    "\n",
    "* Create a summary data frame to hold the results\n",
    "\n",
    "\n",
    "* Sort the total purchase value column in descending order\n",
    "\n",
    "\n",
    "* Optional: give the displayed data cleaner formatting\n",
    "\n",
    "\n",
    "* Display a preview of the summary data frame\n",
    "\n"
   ]
  },
  {
   "cell_type": "code",
   "execution_count": 41,
   "metadata": {},
   "outputs": [
    {
     "output_type": "execute_result",
     "data": {
      "text/plain": "             Total Purchase Value  Average Purchase Price  Purchase Count\nSN                                                                       \nLisosia93                   18.96                3.792000               5\nIdastidru52                 15.45                3.862500               4\nChamjask73                  13.83                4.610000               3\nIral74                      13.62                3.405000               4\nIskadarya95                 13.10                4.366667               3",
      "text/html": "<div>\n<style scoped>\n    .dataframe tbody tr th:only-of-type {\n        vertical-align: middle;\n    }\n\n    .dataframe tbody tr th {\n        vertical-align: top;\n    }\n\n    .dataframe thead th {\n        text-align: right;\n    }\n</style>\n<table border=\"1\" class=\"dataframe\">\n  <thead>\n    <tr style=\"text-align: right;\">\n      <th></th>\n      <th>Total Purchase Value</th>\n      <th>Average Purchase Price</th>\n      <th>Purchase Count</th>\n    </tr>\n    <tr>\n      <th>SN</th>\n      <th></th>\n      <th></th>\n      <th></th>\n    </tr>\n  </thead>\n  <tbody>\n    <tr>\n      <td>Lisosia93</td>\n      <td>18.96</td>\n      <td>3.792000</td>\n      <td>5</td>\n    </tr>\n    <tr>\n      <td>Idastidru52</td>\n      <td>15.45</td>\n      <td>3.862500</td>\n      <td>4</td>\n    </tr>\n    <tr>\n      <td>Chamjask73</td>\n      <td>13.83</td>\n      <td>4.610000</td>\n      <td>3</td>\n    </tr>\n    <tr>\n      <td>Iral74</td>\n      <td>13.62</td>\n      <td>3.405000</td>\n      <td>4</td>\n    </tr>\n    <tr>\n      <td>Iskadarya95</td>\n      <td>13.10</td>\n      <td>4.366667</td>\n      <td>3</td>\n    </tr>\n  </tbody>\n</table>\n</div>"
     },
     "metadata": {},
     "execution_count": 41
    }
   ],
   "source": [
    "# Set up purchasing data organized by \"SN\", or user name\n",
    "purchase_data_users=pd.DataFrame(purchase_data.groupby(\"SN\").sum().Price)\n",
    "\n",
    "# Rename the column so it denotes its true value\n",
    "purchase_data_users=purchase_data_users.rename(columns={\"Price\":\"Total Purchase Value\"})\n",
    "\n",
    "# Determine average purchase price and purchase count\n",
    "purchase_data_users[\"Average Purchase Price\"]=purchase_data.groupby(\"SN\").mean().Price\n",
    "purchase_data_users[\"Purchase Count\"]=purchase_data.groupby(\"SN\").count().Price\n",
    "\n",
    "# Print out dataframe sorted by average purchase price in descending order, slicing in order to show the top 5 spenders\n",
    "purchase_data_users.sort_values(\"Total Purchase Value\",ascending=False)[:5]\n"
   ]
  },
  {
   "cell_type": "markdown",
   "metadata": {},
   "source": [
    "## Most Popular and Profitable Items"
   ]
  },
  {
   "cell_type": "code",
   "execution_count": 104,
   "metadata": {},
   "outputs": [
    {
     "output_type": "execute_result",
     "data": {
      "text/plain": "                                    Item Name Item Price  Total Revenue  \\\nItem ID                                                                   \n92       Betrayal, Whisper of Grieving Widows      $4.61          59.99   \n178           Despair, Favor of Due Diligence      $4.23          50.76   \n145                   Hopeless Ebon Dualblade      $4.58          41.22   \n132                      Fiery Glass Crusader      $3.22          28.99   \n108                            Malificent Bag      $3.53          31.77   \n\n         Amount Sold  \nItem ID               \n92                13  \n178               12  \n145                9  \n132                9  \n108                9  ",
      "text/html": "<div>\n<style scoped>\n    .dataframe tbody tr th:only-of-type {\n        vertical-align: middle;\n    }\n\n    .dataframe tbody tr th {\n        vertical-align: top;\n    }\n\n    .dataframe thead th {\n        text-align: right;\n    }\n</style>\n<table border=\"1\" class=\"dataframe\">\n  <thead>\n    <tr style=\"text-align: right;\">\n      <th></th>\n      <th>Item Name</th>\n      <th>Item Price</th>\n      <th>Total Revenue</th>\n      <th>Amount Sold</th>\n    </tr>\n    <tr>\n      <th>Item ID</th>\n      <th></th>\n      <th></th>\n      <th></th>\n      <th></th>\n    </tr>\n  </thead>\n  <tbody>\n    <tr>\n      <td>92</td>\n      <td>Betrayal, Whisper of Grieving Widows</td>\n      <td>$4.61</td>\n      <td>59.99</td>\n      <td>13</td>\n    </tr>\n    <tr>\n      <td>178</td>\n      <td>Despair, Favor of Due Diligence</td>\n      <td>$4.23</td>\n      <td>50.76</td>\n      <td>12</td>\n    </tr>\n    <tr>\n      <td>145</td>\n      <td>Hopeless Ebon Dualblade</td>\n      <td>$4.58</td>\n      <td>41.22</td>\n      <td>9</td>\n    </tr>\n    <tr>\n      <td>132</td>\n      <td>Fiery Glass Crusader</td>\n      <td>$3.22</td>\n      <td>28.99</td>\n      <td>9</td>\n    </tr>\n    <tr>\n      <td>108</td>\n      <td>Malificent Bag</td>\n      <td>$3.53</td>\n      <td>31.77</td>\n      <td>9</td>\n    </tr>\n  </tbody>\n</table>\n</div>"
     },
     "metadata": {},
     "execution_count": 104
    }
   ],
   "source": [
    "# Establish new dataframe with the Item ID\n",
    "purchase_data_items=pd.DataFrame(purchase_data.groupby(\"Item ID\").sum().Price)\n",
    "purchase_data_items=purchase_data_items.rename(columns={\"Price\":\"Total Revenue\"})\n",
    "\n",
    "# insert the name of the items at a location next to the respective ID\n",
    "purchase_data_items.insert(0,\"Item Name\",purchase_data[\"Item Name\"])\n",
    "\n",
    "# Insert column for item price and amount sold\n",
    "purchase_data_items.insert(1,\"Item Price\",purchase_data.groupby(\"Item ID\").mean().Price)\n",
    "purchase_data_items[\"Amount Sold\"]=purchase_data.groupby(\"Item ID\").count().Price\n",
    "\n",
    "# Formatting columns\n",
    "purchase_data_items['Item Price']=purchase_data_items['Item Price'].astype(float).map(\"${:,.2f}\".format)\n",
    "\n",
    "# Print new dataframe sorted by highest Amount Sold in descending order, indexing for top 5\n",
    "purchase_data_items.sort_values('Amount Sold',ascending=False)[0:5]"
   ]
  },
  {
   "cell_type": "code",
   "execution_count": 102,
   "metadata": {},
   "outputs": [
    {
     "output_type": "execute_result",
     "data": {
      "text/plain": "                                    Item Name Item Price  Total Revenue  \\\nItem ID                                                                   \n92       Betrayal, Whisper of Grieving Widows      $4.61          59.99   \n178           Despair, Favor of Due Diligence      $4.23          50.76   \n82                                 Azurewrath      $4.90          44.10   \n145                   Hopeless Ebon Dualblade      $4.58          41.22   \n103              Thorn, Satchel of Dark Souls      $4.35          34.80   \n\n         Amount Sold  \nItem ID               \n92                13  \n178               12  \n82                 9  \n145                9  \n103                8  ",
      "text/html": "<div>\n<style scoped>\n    .dataframe tbody tr th:only-of-type {\n        vertical-align: middle;\n    }\n\n    .dataframe tbody tr th {\n        vertical-align: top;\n    }\n\n    .dataframe thead th {\n        text-align: right;\n    }\n</style>\n<table border=\"1\" class=\"dataframe\">\n  <thead>\n    <tr style=\"text-align: right;\">\n      <th></th>\n      <th>Item Name</th>\n      <th>Item Price</th>\n      <th>Total Revenue</th>\n      <th>Amount Sold</th>\n    </tr>\n    <tr>\n      <th>Item ID</th>\n      <th></th>\n      <th></th>\n      <th></th>\n      <th></th>\n    </tr>\n  </thead>\n  <tbody>\n    <tr>\n      <td>92</td>\n      <td>Betrayal, Whisper of Grieving Widows</td>\n      <td>$4.61</td>\n      <td>59.99</td>\n      <td>13</td>\n    </tr>\n    <tr>\n      <td>178</td>\n      <td>Despair, Favor of Due Diligence</td>\n      <td>$4.23</td>\n      <td>50.76</td>\n      <td>12</td>\n    </tr>\n    <tr>\n      <td>82</td>\n      <td>Azurewrath</td>\n      <td>$4.90</td>\n      <td>44.10</td>\n      <td>9</td>\n    </tr>\n    <tr>\n      <td>145</td>\n      <td>Hopeless Ebon Dualblade</td>\n      <td>$4.58</td>\n      <td>41.22</td>\n      <td>9</td>\n    </tr>\n    <tr>\n      <td>103</td>\n      <td>Thorn, Satchel of Dark Souls</td>\n      <td>$4.35</td>\n      <td>34.80</td>\n      <td>8</td>\n    </tr>\n  </tbody>\n</table>\n</div>"
     },
     "metadata": {},
     "execution_count": 102
    }
   ],
   "source": [
    "# Print new dataframe sorted by highest total revenue/purchase value in descending order, indexing for top 5\n",
    "purchase_data_items.sort_values('Total Revenue',ascending=False)[0:5]"
   ]
  }
 ],
 "metadata": {
  "anaconda-cloud": {},
  "kernel_info": {
   "name": "python3"
  },
  "kernelspec": {
   "display_name": "Python 3",
   "language": "python",
   "name": "python3"
  },
  "language_info": {
   "codemirror_mode": {
    "name": "ipython",
    "version": 3
   },
   "file_extension": ".py",
   "mimetype": "text/x-python",
   "name": "python",
   "nbconvert_exporter": "python",
   "pygments_lexer": "ipython3",
   "version": "3.7.4-final"
  },
  "latex_envs": {
   "LaTeX_envs_menu_present": true,
   "autoclose": false,
   "autocomplete": true,
   "bibliofile": "biblio.bib",
   "cite_by": "apalike",
   "current_citInitial": 1,
   "eqLabelWithNumbers": true,
   "eqNumInitial": 1,
   "hotkeys": {
    "equation": "Ctrl-E",
    "itemize": "Ctrl-I"
   },
   "labels_anchors": false,
   "latex_user_defs": false,
   "report_style_numbering": false,
   "user_envs_cfg": false
  },
  "nteract": {
   "version": "0.2.0"
  }
 },
 "nbformat": 4,
 "nbformat_minor": 2
}